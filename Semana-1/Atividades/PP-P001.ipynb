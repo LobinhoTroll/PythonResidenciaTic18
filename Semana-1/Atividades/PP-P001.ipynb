{
 "cells": [
  {
   "cell_type": "markdown",
   "id": "6c829976-ce30-4ccc-8b3d-251f3551f4a4",
   "metadata": {},
   "source": [
    "<div style=\"float:left;\"><h1>Exercício 1)</h1></div>"
   ]
  },
  {
   "cell_type": "code",
   "execution_count": 62,
   "id": "8e8806b5-364d-4675-a1d9-af8336856e22",
   "metadata": {
    "tags": []
   },
   "outputs": [
    {
     "name": "stdout",
     "output_type": "stream",
     "text": [
      "Operadores aritiméticos em python:\n",
      "\n",
      "Soma\n",
      "c = a + b ->  9 = 4 + 5 \n",
      "\n",
      "Subtração\n",
      "d = a - b ->  -1 = 4 - 5 \n",
      "\n",
      "Multiplicação\n",
      "e = a * b ->  20 = 4 * 5 \n",
      "\n",
      "Divisão\n",
      "f = a / b ->  0.8 = 4 / 5 \n",
      "\n",
      "Divisão inteira\n",
      "g = a // b ->  0 = 4 // 5 \n",
      "\n",
      "Módulo\n",
      "h = a % b ->  4 = 4 % 5 \n",
      "\n",
      "Potência\n",
      "i = a ** b ->  1024 = 4 ** 5 \n",
      "\n"
     ]
    }
   ],
   "source": [
    "print(\"Operadores aritiméticos em python:\\n\")\n",
    "a = 4\n",
    "b = 5\n",
    "c = a + b\n",
    "d = a - b\n",
    "e = a * b\n",
    "f = a / b\n",
    "g = a // b\n",
    "h = a % b\n",
    "i = a ** b #ou pow()\n",
    "print(\"Soma\")\n",
    "print(\"c = a + b -> \",c,\"=\",a,\"+\",b,\"\\n\")\n",
    "print(\"Subtração\")\n",
    "print(\"d = a - b -> \",d,\"=\",a,\"-\",b,\"\\n\")\n",
    "print(\"Multiplicação\")\n",
    "print(\"e = a * b -> \",e,\"=\",a,\"*\",b,\"\\n\")\n",
    "print(\"Divisão\")\n",
    "print(\"f = a / b -> \",f,\"=\",a,\"/\",b,\"\\n\")\n",
    "print(\"Divisão inteira\")\n",
    "print(\"g = a // b -> \",g,\"=\",a,\"//\",b,\"\\n\")\n",
    "print(\"Módulo\")\n",
    "print(\"h = a % b -> \",h,\"=\",a,\"%\",b,\"\\n\")\n",
    "print(\"Potência\")\n",
    "print(\"i = a ** b -> \",i,\"=\",a,\"**\",b,\"\\n\")"
   ]
  },
  {
   "cell_type": "code",
   "execution_count": 91,
   "id": "aff4df92-e779-479a-a272-0321b731b23a",
   "metadata": {},
   "outputs": [
    {
     "name": "stdout",
     "output_type": "stream",
     "text": [
      "Operadores aritiméticos compostos em python:\n",
      "\n",
      "Atribuição composta\n",
      "a = a += b ->  9 -> a = a + b \n",
      "\n",
      "Redução composta\n",
      "a = a -= b ->  -1 -> a = a - b \n",
      "\n",
      "Multiplição composta\n",
      "a = a *= b ->  20 -> a = a * b \n",
      "\n",
      "Divisão composta\n",
      "a = a /= b ->  4.0 -> a = a / b \n",
      "\n",
      "Divisão inteira composta\n",
      "a = a //= b ->  0.0 -> a = a // b \n",
      "\n",
      "Módulo composto\n",
      "a = a %= b ->  0.0 -> a = a % b \n",
      "\n"
     ]
    }
   ],
   "source": [
    "print(\"Operadores aritiméticos compostos em python:\\n\")\n",
    "a = 4\n",
    "b = 5\n",
    "a += b\n",
    "print(\"Atribuição composta\")\n",
    "print(\"a = a += b -> \",a,\"->\",\"a = a + b\",\"\\n\")\n",
    "a = 4\n",
    "a -= b\n",
    "print(\"Redução composta\")\n",
    "print(\"a = a -= b -> \",a,\"->\",\"a = a - b\",\"\\n\")\n",
    "a = 4\n",
    "a *= b\n",
    "print(\"Multiplição composta\")\n",
    "print(\"a = a *= b -> \",a,\"->\",\"a = a * b\",\"\\n\")\n",
    "a /= b\n",
    "print(\"Divisão composta\")\n",
    "print(\"a = a /= b -> \",a,\"->\",\"a = a / b\",\"\\n\")\n",
    "a //= b\n",
    "print(\"Divisão inteira composta\")\n",
    "print(\"a = a //= b -> \",a,\"->\",\"a = a // b\",\"\\n\")\n",
    "a %= b\n",
    "print(\"Módulo composto\")\n",
    "print(\"a = a %= b -> \",a,\"->\",\"a = a % b\",\"\\n\")"
   ]
  },
  {
   "cell_type": "markdown",
   "id": "467186ae-c3a9-4c23-9816-01752a14995c",
   "metadata": {},
   "source": [
    "<div style=\"float:left;\"><p>Em resumo o Python trabalha da mesma forma que o C++ porem com algumas diferênças específicas, sendo elas a forma de diferenciar uma divisão inteira de uma não inteira, no C++ dependia do tipo de variável ou seja a variável precisava ser necessáriamente do tipo int, ja no Python para definir se uma divisão é do tipo int usa-se // ou só / quando pode ser não inteira.</p></div>"
   ]
  },
  {
   "cell_type": "markdown",
   "id": "aa487d97-a6fb-4295-9f0a-5e204639dabd",
   "metadata": {
    "tags": []
   },
   "source": [
    "<div style=\"float:left;\"><h1>Exercício 2)</h1></div>"
   ]
  }
 ],
 "metadata": {
  "kernelspec": {
   "display_name": "anaconda-panel-2023.05-py310",
   "language": "python",
   "name": "conda-env-anaconda-panel-2023.05-py310-py"
  },
  "language_info": {
   "codemirror_mode": {
    "name": "ipython",
    "version": 3
   },
   "file_extension": ".py",
   "mimetype": "text/x-python",
   "name": "python",
   "nbconvert_exporter": "python",
   "pygments_lexer": "ipython3",
   "version": "3.11.5"
  },
  "toc-autonumbering": false,
  "toc-showcode": true,
  "toc-showmarkdowntxt": false
 },
 "nbformat": 4,
 "nbformat_minor": 5
}
