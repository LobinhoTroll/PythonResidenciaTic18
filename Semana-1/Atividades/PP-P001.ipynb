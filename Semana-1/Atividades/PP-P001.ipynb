{
 "cells": [
  {
   "cell_type": "markdown",
   "id": "6c829976-ce30-4ccc-8b3d-251f3551f4a4",
   "metadata": {},
   "source": [
    "<div style=\"float:left;\"><h1>Exercício 2)</h1></div>"
   ]
  },
  {
   "cell_type": "code",
   "execution_count": 62,
   "id": "8e8806b5-364d-4675-a1d9-af8336856e22",
   "metadata": {
    "tags": []
   },
   "outputs": [
    {
     "name": "stdout",
     "output_type": "stream",
     "text": [
      "Operadores aritiméticos em python:\n",
      "\n",
      "Soma\n",
      "c = a + b ->  9 = 4 + 5 \n",
      "\n",
      "Subtração\n",
      "d = a - b ->  -1 = 4 - 5 \n",
      "\n",
      "Multiplicação\n",
      "e = a * b ->  20 = 4 * 5 \n",
      "\n",
      "Divisão\n",
      "f = a / b ->  0.8 = 4 / 5 \n",
      "\n",
      "Divisão inteira\n",
      "g = a // b ->  0 = 4 // 5 \n",
      "\n",
      "Módulo\n",
      "h = a % b ->  4 = 4 % 5 \n",
      "\n",
      "Potência\n",
      "i = a ** b ->  1024 = 4 ** 5 \n",
      "\n"
     ]
    }
   ],
   "source": [
    "print(\"Operadores aritiméticos em python:\\n\")\n",
    "a = 4\n",
    "b = 5\n",
    "c = a + b\n",
    "d = a - b\n",
    "e = a * b\n",
    "f = a / b\n",
    "g = a // b\n",
    "h = a % b\n",
    "i = a ** b #ou pow()\n",
    "print(\"Soma\")\n",
    "print(\"c = a + b -> \",c,\"=\",a,\"+\",b,\"\\n\")\n",
    "print(\"Subtração\")\n",
    "print(\"d = a - b -> \",d,\"=\",a,\"-\",b,\"\\n\")\n",
    "print(\"Multiplicação\")\n",
    "print(\"e = a * b -> \",e,\"=\",a,\"*\",b,\"\\n\")\n",
    "print(\"Divisão\")\n",
    "print(\"f = a / b -> \",f,\"=\",a,\"/\",b,\"\\n\")\n",
    "print(\"Divisão inteira\")\n",
    "print(\"g = a // b -> \",g,\"=\",a,\"//\",b,\"\\n\")\n",
    "print(\"Módulo\")\n",
    "print(\"h = a % b -> \",h,\"=\",a,\"%\",b,\"\\n\")\n",
    "print(\"Potência\")\n",
    "print(\"i = a ** b -> \",i,\"=\",a,\"**\",b,\"\\n\")"
   ]
  },
  {
   "cell_type": "code",
   "execution_count": 91,
   "id": "aff4df92-e779-479a-a272-0321b731b23a",
   "metadata": {},
   "outputs": [
    {
     "name": "stdout",
     "output_type": "stream",
     "text": [
      "Operadores aritiméticos compostos em python:\n",
      "\n",
      "Atribuição composta\n",
      "a = a += b ->  9 -> a = a + b \n",
      "\n",
      "Redução composta\n",
      "a = a -= b ->  -1 -> a = a - b \n",
      "\n",
      "Multiplição composta\n",
      "a = a *= b ->  20 -> a = a * b \n",
      "\n",
      "Divisão composta\n",
      "a = a /= b ->  4.0 -> a = a / b \n",
      "\n",
      "Divisão inteira composta\n",
      "a = a //= b ->  0.0 -> a = a // b \n",
      "\n",
      "Módulo composto\n",
      "a = a %= b ->  0.0 -> a = a % b \n",
      "\n"
     ]
    }
   ],
   "source": [
    "print(\"Operadores aritiméticos compostos em python:\\n\")\n",
    "a = 4\n",
    "b = 5\n",
    "a += b\n",
    "print(\"Atribuição composta\")\n",
    "print(\"a = a += b -> \",a,\"->\",\"a = a + b\",\"\\n\")\n",
    "a = 4\n",
    "a -= b\n",
    "print(\"Redução composta\")\n",
    "print(\"a = a -= b -> \",a,\"->\",\"a = a - b\",\"\\n\")\n",
    "a = 4\n",
    "a *= b\n",
    "print(\"Multiplição composta\")\n",
    "print(\"a = a *= b -> \",a,\"->\",\"a = a * b\",\"\\n\")\n",
    "a /= b\n",
    "print(\"Divisão composta\")\n",
    "print(\"a = a /= b -> \",a,\"->\",\"a = a / b\",\"\\n\")\n",
    "a //= b\n",
    "print(\"Divisão inteira composta\")\n",
    "print(\"a = a //= b -> \",a,\"->\",\"a = a // b\",\"\\n\")\n",
    "a %= b\n",
    "print(\"Módulo composto\")\n",
    "print(\"a = a %= b -> \",a,\"->\",\"a = a % b\",\"\\n\")"
   ]
  },
  {
   "cell_type": "markdown",
   "id": "467186ae-c3a9-4c23-9816-01752a14995c",
   "metadata": {},
   "source": [
    "<div style=\"float:left;\"><p>Em resumo o Python trabalha da mesma forma que o C++ porem com algumas diferênças específicas, sendo elas a forma de diferenciar uma divisão inteira de uma não inteira, no C++ dependia do tipo de variável ou seja a variável precisava ser necessáriamente do tipo int, ja no Python para definir se uma divisão é do tipo int usa-se // ou só / quando pode ser não inteira.</p></div>"
   ]
  },
  {
   "cell_type": "markdown",
   "id": "9d35285e-a047-4781-8e87-d0bc28336d5f",
   "metadata": {},
   "source": [
    "<div style=\"float:left;\"><p>Possibilidade de representar números signitivamente grandes em relação ao C++:</p></div>"
   ]
  },
  {
   "cell_type": "code",
   "execution_count": 141,
   "id": "b2d562a9-2278-480a-bbea-1bdb466655d2",
   "metadata": {},
   "outputs": [
    {
     "name": "stdout",
     "output_type": "stream",
     "text": [
      "Máximo número inteiro em C++: 2147483647\n",
      "Fatorial de 30 em Python:  265252859812191058636308480000000\n"
     ]
    }
   ],
   "source": [
    "print(\"Máximo número inteiro em C++: 2147483647\")\n",
    "n = 30\n",
    "f = 1\n",
    "for i in range(1,n+1):#começa em 1 e vai ate o anterior do numero definido,tambem da pra fazer invertido ai ficaria n,0,-1(limite,fim,sequencia)\n",
    "    f *= i\n",
    "print(\"Fatorial de 30 em Python: \",f)"
   ]
  },
  {
   "cell_type": "markdown",
   "id": "aa487d97-a6fb-4295-9f0a-5e204639dabd",
   "metadata": {
    "tags": []
   },
   "source": [
    "<div style=\"float:left;\"><h1>Exercício 3)</h1></div>"
   ]
  },
  {
   "cell_type": "code",
   "execution_count": 36,
   "id": "3ba39d99-51f7-43eb-99b0-f3f7aa3b7a6b",
   "metadata": {},
   "outputs": [
    {
     "name": "stdout",
     "output_type": "stream",
     "text": [
      "Caracteres numéricos de 0 a 9 e seus valores na tabela ASCII,OCT e HEX:\n",
      "0 - ASCII:  48  OCT:  0o60  HEX:  0x30\n",
      "1 - ASCII:  49  OCT:  0o61  HEX:  0x31\n",
      "2 - ASCII:  50  OCT:  0o62  HEX:  0x32\n",
      "3 - ASCII:  51  OCT:  0o63  HEX:  0x33\n",
      "4 - ASCII:  52  OCT:  0o64  HEX:  0x34\n",
      "5 - ASCII:  53  OCT:  0o65  HEX:  0x35\n",
      "6 - ASCII:  54  OCT:  0o66  HEX:  0x36\n",
      "7 - ASCII:  55  OCT:  0o67  HEX:  0x37\n",
      "8 - ASCII:  56  OCT:  0o70  HEX:  0x38\n",
      "9 - ASCII:  57  OCT:  0o71  HEX:  0x39\n"
     ]
    }
   ],
   "source": [
    "print(\"Caracteres numéricos de 0 a 9 e seus valores na tabela ASCII,OCT e HEX:\")\n",
    "lista = ['0','1','2','3','4','5','6','7','8','9']\n",
    "for i in lista:\n",
    "    print(i,\"- ASCII: \",ord(i),\" OCT: \",oct(ord(i)),\" HEX: \",hex(ord(i)))"
   ]
  },
  {
   "cell_type": "code",
   "execution_count": 42,
   "id": "cc577273-572e-4ce9-a1a1-49a71e07a6b3",
   "metadata": {},
   "outputs": [
    {
     "name": "stdin",
     "output_type": "stream",
     "text": [
      "Escreva o caractere desejado:  Ç\n"
     ]
    },
    {
     "name": "stdout",
     "output_type": "stream",
     "text": [
      "Ç - ASCII:  199  OCT:  0o307  HEX:  0xc7\n"
     ]
    }
   ],
   "source": [
    "i = input(\"Escreva o caractere desejado: \")\n",
    "print(i,\"- ASCII: \",ord(i),\" OCT: \",oct(ord(i)),\" HEX: \",hex(ord(i)))"
   ]
  },
  {
   "cell_type": "markdown",
   "id": "9cf7ef68-70a7-4be2-8598-f78fb3d82332",
   "metadata": {},
   "source": [
    "<div style=\"float:left;\"><h1>Exercício 4)</h1></div>"
   ]
  },
  {
   "cell_type": "code",
   "execution_count": 113,
   "id": "359f90c2-0b73-4b19-92aa-57c095503119",
   "metadata": {},
   "outputs": [
    {
     "name": "stdout",
     "output_type": "stream",
     "text": [
      "Nome:  Gabriel\n",
      "Sobrenome:  Teles \n",
      "\n",
      "Gabriel  antecede  Teles  na ordem alfabética.\n",
      "\n",
      "Quantidades de caracteres em  Gabriel  = 7\n",
      "Quantidades de caracteres em  Teles  = 5 \n",
      "\n",
      "Gabriel  não é um palindromo.\n",
      "Teles  não é um palindromo.\n",
      "\n"
     ]
    }
   ],
   "source": [
    "#Separa o nome em uma array de strings\n",
    "nomecompleto = \"Gabriel,dos,Santos,Teles\"\n",
    "nomeParsed = nomecompleto.split(\",\")\n",
    "\n",
    "#Define o nome e o sobrenome depois mosta na tela\n",
    "nome = nomeParsed[0]\n",
    "sobrenome = nomeParsed[-1]\n",
    "print(\"Nome: \",nome)\n",
    "print(\"Sobrenome: \",sobrenome,\"\\n\")\n",
    "\n",
    "#Verifica quem antecede quem na ordem alfabetica\n",
    "if  nome[1].lower() < sobrenome[1].lower():\n",
    "    print(nome,\" antecede \",sobrenome,\" na ordem alfabética.\\n\")\n",
    "else:\n",
    "    print(sobrenome,\" antecede \",nome,\" na ordem alfabética.\\n\")\n",
    "\n",
    "#Mosta a quantidade de caracteres do nome e do sobrenome\n",
    "print(\"Quantidades de caracteres em \",nome,\" =\",len(nome))\n",
    "print(\"Quantidades de caracteres em \",sobrenome,\" =\",len(sobrenome),\"\\n\")\n",
    "\n",
    "if nome.lower() == nome[::-1].lower():\n",
    "    print(nome,\" é um palindromo.\")\n",
    "else: \n",
    "    print(nome,\" não é um palindromo.\")\n",
    "\n",
    "if sobrenome.lower() == sobrenome[::-1].lower():\n",
    "    print(sobrenome,\" é um palindromo.\\n\")\n",
    "else: \n",
    "    print(sobrenome,\" não é um palindromo.\\n\")"
   ]
  },
  {
   "cell_type": "markdown",
   "id": "7f109b8b-b783-41e4-8a6a-b9349ab03a85",
   "metadata": {},
   "source": [
    "<div style=\"float:left;\"><h1>Exercício 5)</h1></div>"
   ]
  },
  {
   "cell_type": "code",
   "execution_count": 134,
   "id": "5b33073d-31ab-436a-91ce-8964563543f8",
   "metadata": {},
   "outputs": [
    {
     "name": "stdout",
     "output_type": "stream",
     "text": [
      "Operadores aritiméticos em variaveis de ponto flutuante em python:\n",
      "\n",
      "Soma\n",
      "c = a + b ->  10.2 = 4.5 + 5.7 \n",
      "\n",
      "Subtração\n",
      "d = a - b ->  -1.20 = 4.5 - 5.7 \n",
      "\n",
      "Multiplicação\n",
      "e = a * b ->  25.65 = 4.5 * 5.7 \n",
      "\n",
      "Divisão\n",
      "f = a / b ->  0.79 = 4.5 / 5.7 \n",
      "\n",
      "Divisão inteira\n",
      "g = a // b ->  0.0 = 4.5 // 5.7 \n",
      "\n",
      "Módulo\n",
      "h = a % b ->  4.5 = 4.5 % 5.7 \n",
      "\n",
      "Potência\n",
      "i = a ** b ->  5288.242090674479 = 4.5 ** 5.7 \n",
      "\n"
     ]
    }
   ],
   "source": [
    "print(\"Operadores aritiméticos em variaveis de ponto flutuante em python:\\n\")\n",
    "a = 4.5\n",
    "b = 5.7\n",
    "c = a + b\n",
    "d = a - b\n",
    "e = a * b\n",
    "f = a / b\n",
    "g = a // b\n",
    "h = a % b\n",
    "i = a ** b #ou pow()\n",
    "print(\"Soma\")\n",
    "print(\"c = a + b -> \",c,\"=\",a,\"+\",b,\"\\n\")\n",
    "print(\"Subtração\")\n",
    "print(\"d = a - b -> \",f\"{d:.2f}\",\"=\",a,\"-\",b,\"\\n\")\n",
    "print(\"Multiplicação\")\n",
    "print(\"e = a * b -> \",f\"{e:.2f}\",\"=\",a,\"*\",b,\"\\n\")\n",
    "print(\"Divisão\")\n",
    "print(\"f = a / b -> \",f\"{f:.2f}\",\"=\",a,\"/\",b,\"\\n\")\n",
    "print(\"Divisão inteira\")\n",
    "print(\"g = a // b -> \",g,\"=\",a,\"//\",b,\"\\n\")\n",
    "print(\"Módulo\")\n",
    "print(\"h = a % b -> \",h,\"=\",a,\"%\",b,\"\\n\")\n",
    "print(\"Potência\")\n",
    "print(\"i = a ** b -> \",i,\"=\",a,\"**\",b,\"\\n\")"
   ]
  },
  {
   "cell_type": "code",
   "execution_count": 151,
   "id": "94afbb95-6627-4b0d-a12e-04696b8793e2",
   "metadata": {},
   "outputs": [
    {
     "name": "stdout",
     "output_type": "stream",
     "text": [
      "Operadores aritiméticos compostos em variavel de ponto flutuante em python:\n",
      "\n",
      "Atribuição composta\n",
      "a = a += b ->  10.2 -> a = a + b \n",
      "\n",
      "Redução composta\n",
      "a = a -= b ->  -1.7 -> a = a - b \n",
      "\n",
      "Multiplição composta\n",
      "a = a *= b ->  22.8 -> a = a * b \n",
      "\n",
      "Divisão composta\n",
      "a = a /= b ->  4.0 -> a = a / b \n",
      "\n",
      "Divisão inteira composta\n",
      "a = a //= b ->  0.0 -> a = a // b \n",
      "\n",
      "Módulo composto\n",
      "a = a %= b ->  0.0 -> a = a % b \n",
      "\n"
     ]
    }
   ],
   "source": [
    "print(\"Operadores aritiméticos compostos em variavel de ponto flutuante em python:\\n\")\n",
    "a = 4.5\n",
    "b = 5.7\n",
    "a += b\n",
    "print(\"Atribuição composta\")\n",
    "print(\"a = a += b -> \",a,\"->\",\"a = a + b\",\"\\n\")\n",
    "a = 4\n",
    "a -= b\n",
    "print(\"Redução composta\")\n",
    "print(\"a = a -= b -> \",f\"{a:.1f}\",\"->\",\"a = a - b\",\"\\n\")\n",
    "a = 4\n",
    "a *= b\n",
    "print(\"Multiplição composta\")\n",
    "print(\"a = a *= b -> \",a,\"->\",\"a = a * b\",\"\\n\")\n",
    "a /= b\n",
    "print(\"Divisão composta\")\n",
    "print(\"a = a /= b -> \",a,\"->\",\"a = a / b\",\"\\n\")\n",
    "a //= b\n",
    "print(\"Divisão inteira composta\")\n",
    "print(\"a = a //= b -> \",a,\"->\",\"a = a // b\",\"\\n\")\n",
    "a %= b\n",
    "print(\"Módulo composto\")\n",
    "print(\"a = a %= b -> \",a,\"->\",\"a = a % b\",\"\\n\")"
   ]
  },
  {
   "cell_type": "code",
   "execution_count": 198,
   "id": "8d41aff7-632f-4e08-b1bf-1dee1ea84a24",
   "metadata": {},
   "outputs": [
    {
     "name": "stdout",
     "output_type": "stream",
     "text": [
      "Maior potência de base 2 =  1.3407807929942596e+154 ²\n",
      "Minima potência de base 2 =  0.0 ²\n"
     ]
    }
   ],
   "source": [
    "import sys\n",
    "maximo = sys.float_info.max\n",
    "mnimo = sys.float_info.min\n",
    "\n",
    "print(\"Maior potência de base 2 = \",maximo ** 0.5,\"²\")\n",
    "print(\"Minima potência de base 2 = \",minimo ** 0.5,\"²\")\n"
   ]
  },
  {
   "cell_type": "markdown",
   "id": "430b4b85-19fb-4b12-9723-23d0a8f73202",
   "metadata": {},
   "source": [
    "<div style=\"float:left;\"><h1>Exercício 6)</h1></div>"
   ]
  },
  {
   "cell_type": "code",
   "execution_count": 210,
   "id": "1dbfb676-9778-4009-a5e2-cf44998cff92",
   "metadata": {},
   "outputs": [
    {
     "name": "stdout",
     "output_type": "stream",
     "text": [
      "[9, 8, 7, 6, 5, 4, 3, 2, 1]\n",
      "[9]\n",
      "[1, 2, 3, 4, 5, 6, 7, 8]\n",
      "[9, 7, 5, 3, 1]\n",
      "[8, 9]\n",
      "[1, 2, 3, 4, 5, 6, 7]\n"
     ]
    }
   ],
   "source": [
    "L = [1,2,3,4,5,6,7,8,9]\n",
    "print(L[::-1]) #Responde a lista inversamente \n",
    "print(L[-1::]) #Responde o ultimo item da lista\n",
    "print(L[:-1:]) #Responde os itens menos o ultimo\n",
    "print(L[::-2]) #Responde os itens inversamente menos os de index impar\n",
    "print(L[-2::]) #Responde os 2 ultimos itens da lista\n",
    "print(L[:-2:]) #Responde os itens menos os 2 ultimos\n"
   ]
  },
  {
   "cell_type": "code",
   "execution_count": 228,
   "id": "ce216487-77dc-4470-b0ab-ec6b511881aa",
   "metadata": {},
   "outputs": [
    {
     "name": "stdin",
     "output_type": "stream",
     "text": [
      "Escreva o ano de seu nascimento:  2004\n"
     ]
    },
    {
     "name": "stdout",
     "output_type": "stream",
     "text": [
      "Seu signo no zodiaco chinês é :  Macaco\n"
     ]
    }
   ],
   "source": [
    "signoList = [\"Macaco\",\"Galo\",\"Cão\",\"Porco\",\"Rato\",\"Boi\",\"Tigre\",\"Coelho\",\"Dragão\",\"Sepente\",\"Cavalo\",\"Carneiro\"]\n",
    "ano = int(input(\"Escreva o ano de seu nascimento: \"))\n",
    "signo = ano % 12\n",
    "print(\"Seu signo no zodiaco chinês é : \",signoList[signo])"
   ]
  },
  {
   "cell_type": "code",
   "execution_count": null,
   "id": "096af5cc-1888-4072-8341-d35f67bbdd1f",
   "metadata": {},
   "outputs": [],
   "source": []
  }
 ],
 "metadata": {
  "kernelspec": {
   "display_name": "anaconda-panel-2023.05-py310",
   "language": "python",
   "name": "conda-env-anaconda-panel-2023.05-py310-py"
  },
  "language_info": {
   "codemirror_mode": {
    "name": "ipython",
    "version": 3
   },
   "file_extension": ".py",
   "mimetype": "text/x-python",
   "name": "python",
   "nbconvert_exporter": "python",
   "pygments_lexer": "ipython3",
   "version": "3.11.5"
  },
  "toc-autonumbering": false,
  "toc-showcode": true,
  "toc-showmarkdowntxt": false
 },
 "nbformat": 4,
 "nbformat_minor": 5
}
